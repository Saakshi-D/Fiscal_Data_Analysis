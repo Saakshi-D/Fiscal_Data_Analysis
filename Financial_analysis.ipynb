{
 "cells": [
  {
   "cell_type": "markdown",
   "id": "304cb363",
   "metadata": {},
   "source": [
    "# Data Analysis on Company Financials Dataset."
   ]
  },
  {
   "cell_type": "markdown",
   "id": "aef3ddaa",
   "metadata": {},
   "source": [
    "Dataset : https://www.kaggle.com/datasets/atharvaarya25/financials"
   ]
  },
  {
   "cell_type": "code",
   "execution_count": 1,
   "id": "88286fea",
   "metadata": {},
   "outputs": [],
   "source": [
    "#importing the libraries\n",
    "import numpy as np \n",
    "import pandas as pd \n",
    "import matplotlib.pyplot as plt\n",
    "%matplotlib inline \n",
    "import warnings\n",
    "warnings.filterwarnings(\"ignore\")"
   ]
  },
  {
   "cell_type": "code",
   "execution_count": 2,
   "id": "9611495c",
   "metadata": {},
   "outputs": [],
   "source": [
    "#loading the dataset\n",
    "data = pd.read_csv('Financials.csv',error_bad_lines=False)"
   ]
  },
  {
   "cell_type": "code",
   "execution_count": 3,
   "id": "a3305b9c",
   "metadata": {},
   "outputs": [
    {
     "data": {
      "text/html": [
       "<div>\n",
       "<style scoped>\n",
       "    .dataframe tbody tr th:only-of-type {\n",
       "        vertical-align: middle;\n",
       "    }\n",
       "\n",
       "    .dataframe tbody tr th {\n",
       "        vertical-align: top;\n",
       "    }\n",
       "\n",
       "    .dataframe thead th {\n",
       "        text-align: right;\n",
       "    }\n",
       "</style>\n",
       "<table border=\"1\" class=\"dataframe\">\n",
       "  <thead>\n",
       "    <tr style=\"text-align: right;\">\n",
       "      <th></th>\n",
       "      <th>Segment</th>\n",
       "      <th>Country</th>\n",
       "      <th>Product</th>\n",
       "      <th>Discount Band</th>\n",
       "      <th>Units Sold</th>\n",
       "      <th>Manufacturing Price</th>\n",
       "      <th>Sale Price</th>\n",
       "      <th>Gross Sales</th>\n",
       "      <th>Discounts</th>\n",
       "      <th>Sales</th>\n",
       "      <th>COGS</th>\n",
       "      <th>Profit</th>\n",
       "      <th>Date</th>\n",
       "      <th>Month Number</th>\n",
       "      <th>Month Name</th>\n",
       "      <th>Year</th>\n",
       "    </tr>\n",
       "  </thead>\n",
       "  <tbody>\n",
       "    <tr>\n",
       "      <th>0</th>\n",
       "      <td>Government</td>\n",
       "      <td>Canada</td>\n",
       "      <td>Carretera</td>\n",
       "      <td>None</td>\n",
       "      <td>$1,618.50</td>\n",
       "      <td>$3.00</td>\n",
       "      <td>$20.00</td>\n",
       "      <td>$32,370.00</td>\n",
       "      <td>$-</td>\n",
       "      <td>$32,370.00</td>\n",
       "      <td>$16,185.00</td>\n",
       "      <td>$16,185.00</td>\n",
       "      <td>01/01/2014</td>\n",
       "      <td>1</td>\n",
       "      <td>January</td>\n",
       "      <td>2014</td>\n",
       "    </tr>\n",
       "    <tr>\n",
       "      <th>1</th>\n",
       "      <td>Government</td>\n",
       "      <td>Germany</td>\n",
       "      <td>Carretera</td>\n",
       "      <td>None</td>\n",
       "      <td>$1,321.00</td>\n",
       "      <td>$3.00</td>\n",
       "      <td>$20.00</td>\n",
       "      <td>$26,420.00</td>\n",
       "      <td>$-</td>\n",
       "      <td>$26,420.00</td>\n",
       "      <td>$13,210.00</td>\n",
       "      <td>$13,210.00</td>\n",
       "      <td>01/01/2014</td>\n",
       "      <td>1</td>\n",
       "      <td>January</td>\n",
       "      <td>2014</td>\n",
       "    </tr>\n",
       "    <tr>\n",
       "      <th>2</th>\n",
       "      <td>Midmarket</td>\n",
       "      <td>France</td>\n",
       "      <td>Carretera</td>\n",
       "      <td>None</td>\n",
       "      <td>$2,178.00</td>\n",
       "      <td>$3.00</td>\n",
       "      <td>$15.00</td>\n",
       "      <td>$32,670.00</td>\n",
       "      <td>$-</td>\n",
       "      <td>$32,670.00</td>\n",
       "      <td>$21,780.00</td>\n",
       "      <td>$10,890.00</td>\n",
       "      <td>01/06/2014</td>\n",
       "      <td>6</td>\n",
       "      <td>June</td>\n",
       "      <td>2014</td>\n",
       "    </tr>\n",
       "    <tr>\n",
       "      <th>3</th>\n",
       "      <td>Midmarket</td>\n",
       "      <td>Germany</td>\n",
       "      <td>Carretera</td>\n",
       "      <td>None</td>\n",
       "      <td>$888.00</td>\n",
       "      <td>$3.00</td>\n",
       "      <td>$15.00</td>\n",
       "      <td>$13,320.00</td>\n",
       "      <td>$-</td>\n",
       "      <td>$13,320.00</td>\n",
       "      <td>$8,880.00</td>\n",
       "      <td>$4,440.00</td>\n",
       "      <td>01/06/2014</td>\n",
       "      <td>6</td>\n",
       "      <td>June</td>\n",
       "      <td>2014</td>\n",
       "    </tr>\n",
       "    <tr>\n",
       "      <th>4</th>\n",
       "      <td>Midmarket</td>\n",
       "      <td>Mexico</td>\n",
       "      <td>Carretera</td>\n",
       "      <td>None</td>\n",
       "      <td>$2,470.00</td>\n",
       "      <td>$3.00</td>\n",
       "      <td>$15.00</td>\n",
       "      <td>$37,050.00</td>\n",
       "      <td>$-</td>\n",
       "      <td>$37,050.00</td>\n",
       "      <td>$24,700.00</td>\n",
       "      <td>$12,350.00</td>\n",
       "      <td>01/06/2014</td>\n",
       "      <td>6</td>\n",
       "      <td>June</td>\n",
       "      <td>2014</td>\n",
       "    </tr>\n",
       "    <tr>\n",
       "      <th>...</th>\n",
       "      <td>...</td>\n",
       "      <td>...</td>\n",
       "      <td>...</td>\n",
       "      <td>...</td>\n",
       "      <td>...</td>\n",
       "      <td>...</td>\n",
       "      <td>...</td>\n",
       "      <td>...</td>\n",
       "      <td>...</td>\n",
       "      <td>...</td>\n",
       "      <td>...</td>\n",
       "      <td>...</td>\n",
       "      <td>...</td>\n",
       "      <td>...</td>\n",
       "      <td>...</td>\n",
       "      <td>...</td>\n",
       "    </tr>\n",
       "    <tr>\n",
       "      <th>695</th>\n",
       "      <td>Small Business</td>\n",
       "      <td>France</td>\n",
       "      <td>Amarilla</td>\n",
       "      <td>High</td>\n",
       "      <td>$2,475.00</td>\n",
       "      <td>$260.00</td>\n",
       "      <td>$300.00</td>\n",
       "      <td>$7,42,500.00</td>\n",
       "      <td>$1,11,375.00</td>\n",
       "      <td>$6,31,125.00</td>\n",
       "      <td>$6,18,750.00</td>\n",
       "      <td>$12,375.00</td>\n",
       "      <td>01/03/2014</td>\n",
       "      <td>3</td>\n",
       "      <td>March</td>\n",
       "      <td>2014</td>\n",
       "    </tr>\n",
       "    <tr>\n",
       "      <th>696</th>\n",
       "      <td>Small Business</td>\n",
       "      <td>Mexico</td>\n",
       "      <td>Amarilla</td>\n",
       "      <td>High</td>\n",
       "      <td>$546.00</td>\n",
       "      <td>$260.00</td>\n",
       "      <td>$300.00</td>\n",
       "      <td>$1,63,800.00</td>\n",
       "      <td>$24,570.00</td>\n",
       "      <td>$1,39,230.00</td>\n",
       "      <td>$1,36,500.00</td>\n",
       "      <td>$2,730.00</td>\n",
       "      <td>01/10/2014</td>\n",
       "      <td>10</td>\n",
       "      <td>October</td>\n",
       "      <td>2014</td>\n",
       "    </tr>\n",
       "    <tr>\n",
       "      <th>697</th>\n",
       "      <td>Government</td>\n",
       "      <td>Mexico</td>\n",
       "      <td>Montana</td>\n",
       "      <td>High</td>\n",
       "      <td>$1,368.00</td>\n",
       "      <td>$5.00</td>\n",
       "      <td>$7.00</td>\n",
       "      <td>$9,576.00</td>\n",
       "      <td>$1,436.40</td>\n",
       "      <td>$8,139.60</td>\n",
       "      <td>$6,840.00</td>\n",
       "      <td>$1,299.60</td>\n",
       "      <td>01/02/2014</td>\n",
       "      <td>2</td>\n",
       "      <td>February</td>\n",
       "      <td>2014</td>\n",
       "    </tr>\n",
       "    <tr>\n",
       "      <th>698</th>\n",
       "      <td>Government</td>\n",
       "      <td>Canada</td>\n",
       "      <td>Paseo</td>\n",
       "      <td>High</td>\n",
       "      <td>$723.00</td>\n",
       "      <td>$10.00</td>\n",
       "      <td>$7.00</td>\n",
       "      <td>$5,061.00</td>\n",
       "      <td>$759.15</td>\n",
       "      <td>$4,301.85</td>\n",
       "      <td>$3,615.00</td>\n",
       "      <td>$686.85</td>\n",
       "      <td>01/04/2014</td>\n",
       "      <td>4</td>\n",
       "      <td>April</td>\n",
       "      <td>2014</td>\n",
       "    </tr>\n",
       "    <tr>\n",
       "      <th>699</th>\n",
       "      <td>Channel Partners</td>\n",
       "      <td>United States of America</td>\n",
       "      <td>VTT</td>\n",
       "      <td>High</td>\n",
       "      <td>$1,806.00</td>\n",
       "      <td>$250.00</td>\n",
       "      <td>$12.00</td>\n",
       "      <td>$21,672.00</td>\n",
       "      <td>$3,250.80</td>\n",
       "      <td>$18,421.20</td>\n",
       "      <td>$5,418.00</td>\n",
       "      <td>$13,003.20</td>\n",
       "      <td>01/05/2014</td>\n",
       "      <td>5</td>\n",
       "      <td>May</td>\n",
       "      <td>2014</td>\n",
       "    </tr>\n",
       "  </tbody>\n",
       "</table>\n",
       "<p>700 rows × 16 columns</p>\n",
       "</div>"
      ],
      "text/plain": [
       "              Segment                   Country     Product   Discount Band   \\\n",
       "0          Government                    Canada   Carretera            None    \n",
       "1          Government                   Germany   Carretera            None    \n",
       "2           Midmarket                    France   Carretera            None    \n",
       "3           Midmarket                   Germany   Carretera            None    \n",
       "4           Midmarket                    Mexico   Carretera            None    \n",
       "..                ...                       ...          ...             ...   \n",
       "695    Small Business                    France    Amarilla            High    \n",
       "696    Small Business                    Mexico    Amarilla            High    \n",
       "697        Government                    Mexico     Montana            High    \n",
       "698        Government                    Canada       Paseo            High    \n",
       "699  Channel Partners  United States of America         VTT            High    \n",
       "\n",
       "     Units Sold   Manufacturing Price   Sale Price     Gross Sales   \\\n",
       "0     $1,618.50                 $3.00       $20.00      $32,370.00    \n",
       "1     $1,321.00                 $3.00       $20.00      $26,420.00    \n",
       "2     $2,178.00                 $3.00       $15.00      $32,670.00    \n",
       "3       $888.00                 $3.00       $15.00      $13,320.00    \n",
       "4     $2,470.00                 $3.00       $15.00      $37,050.00    \n",
       "..           ...                   ...          ...             ...   \n",
       "695   $2,475.00               $260.00      $300.00    $7,42,500.00    \n",
       "696     $546.00               $260.00      $300.00    $1,63,800.00    \n",
       "697   $1,368.00                 $5.00        $7.00       $9,576.00    \n",
       "698     $723.00                $10.00        $7.00       $5,061.00    \n",
       "699   $1,806.00               $250.00       $12.00      $21,672.00    \n",
       "\n",
       "         Discounts           Sales            COGS        Profit         Date  \\\n",
       "0             $-        $32,370.00      $16,185.00    $16,185.00   01/01/2014   \n",
       "1             $-        $26,420.00      $13,210.00    $13,210.00   01/01/2014   \n",
       "2             $-        $32,670.00      $21,780.00    $10,890.00   01/06/2014   \n",
       "3             $-        $13,320.00       $8,880.00     $4,440.00   01/06/2014   \n",
       "4             $-        $37,050.00      $24,700.00    $12,350.00   01/06/2014   \n",
       "..              ...             ...             ...           ...         ...   \n",
       "695   $1,11,375.00    $6,31,125.00    $6,18,750.00    $12,375.00   01/03/2014   \n",
       "696     $24,570.00    $1,39,230.00    $1,36,500.00     $2,730.00   01/10/2014   \n",
       "697      $1,436.40       $8,139.60       $6,840.00     $1,299.60   01/02/2014   \n",
       "698        $759.15       $4,301.85       $3,615.00       $686.85   01/04/2014   \n",
       "699      $3,250.80      $18,421.20       $5,418.00    $13,003.20   01/05/2014   \n",
       "\n",
       "     Month Number  Month Name   Year  \n",
       "0               1     January   2014  \n",
       "1               1     January   2014  \n",
       "2               6        June   2014  \n",
       "3               6        June   2014  \n",
       "4               6        June   2014  \n",
       "..            ...          ...   ...  \n",
       "695             3       March   2014  \n",
       "696            10     October   2014  \n",
       "697             2    February   2014  \n",
       "698             4       April   2014  \n",
       "699             5         May   2014  \n",
       "\n",
       "[700 rows x 16 columns]"
      ]
     },
     "execution_count": 3,
     "metadata": {},
     "output_type": "execute_result"
    }
   ],
   "source": [
    "data"
   ]
  },
  {
   "cell_type": "code",
   "execution_count": 4,
   "id": "e6908568",
   "metadata": {},
   "outputs": [
    {
     "name": "stdout",
     "output_type": "stream",
     "text": [
      "(700, 16)\n"
     ]
    },
    {
     "data": {
      "text/plain": [
       "Index(['Segment', 'Country', ' Product ', ' Discount Band ', ' Units Sold ',\n",
       "       ' Manufacturing Price ', ' Sale Price ', ' Gross Sales ', ' Discounts ',\n",
       "       '  Sales ', ' COGS ', ' Profit ', 'Date', 'Month Number',\n",
       "       ' Month Name ', 'Year'],\n",
       "      dtype='object')"
      ]
     },
     "execution_count": 4,
     "metadata": {},
     "output_type": "execute_result"
    }
   ],
   "source": [
    "#checking the number of columns and rows in the data.\n",
    "print(data.shape)\n",
    "#checking the various columns in the data\n",
    "data.columns"
   ]
  },
  {
   "cell_type": "code",
   "execution_count": 5,
   "id": "ce5c1406",
   "metadata": {},
   "outputs": [
    {
     "name": "stdout",
     "output_type": "stream",
     "text": [
      "<class 'pandas.core.frame.DataFrame'>\n",
      "RangeIndex: 700 entries, 0 to 699\n",
      "Data columns (total 16 columns):\n",
      " #   Column                 Non-Null Count  Dtype \n",
      "---  ------                 --------------  ----- \n",
      " 0   Segment                700 non-null    object\n",
      " 1   Country                700 non-null    object\n",
      " 2    Product               700 non-null    object\n",
      " 3    Discount Band         700 non-null    object\n",
      " 4    Units Sold            700 non-null    object\n",
      " 5    Manufacturing Price   700 non-null    object\n",
      " 6    Sale Price            700 non-null    object\n",
      " 7    Gross Sales           700 non-null    object\n",
      " 8    Discounts             700 non-null    object\n",
      " 9     Sales                700 non-null    object\n",
      " 10   COGS                  700 non-null    object\n",
      " 11   Profit                700 non-null    object\n",
      " 12  Date                   700 non-null    object\n",
      " 13  Month Number           700 non-null    int64 \n",
      " 14   Month Name            700 non-null    object\n",
      " 15  Year                   700 non-null    int64 \n",
      "dtypes: int64(2), object(14)\n",
      "memory usage: 87.6+ KB\n"
     ]
    }
   ],
   "source": [
    "data.info()"
   ]
  },
  {
   "cell_type": "code",
   "execution_count": 6,
   "id": "f13f58d9",
   "metadata": {},
   "outputs": [],
   "source": [
    "#We can clearly see that the column names are distorted with white spaces at inappropriate places\n",
    "data.columns = data.columns.str.strip() #removing the leading and trailing spaces.\n",
    "\n",
    "#replacing the spaces between the words with an underscore.\n",
    "data.columns = data.columns.str.replace(\" \",\"_\")"
   ]
  },
  {
   "cell_type": "code",
   "execution_count": 7,
   "id": "381f539c",
   "metadata": {},
   "outputs": [],
   "source": [
    "#notice that the date is in object datatype , we must to convert it to date type .\n",
    "data['Date'] = pd.to_datetime(data['Date'])"
   ]
  },
  {
   "cell_type": "code",
   "execution_count": 8,
   "id": "ebd6760c",
   "metadata": {},
   "outputs": [
    {
     "data": {
      "text/plain": [
       "Segment                0\n",
       "Country                0\n",
       "Product                0\n",
       "Discount_Band          0\n",
       "Units_Sold             0\n",
       "Manufacturing_Price    0\n",
       "Sale_Price             0\n",
       "Gross_Sales            0\n",
       "Discounts              0\n",
       "Sales                  0\n",
       "COGS                   0\n",
       "Profit                 0\n",
       "Date                   0\n",
       "Month_Number           0\n",
       "Month_Name             0\n",
       "Year                   0\n",
       "dtype: int64"
      ]
     },
     "execution_count": 8,
     "metadata": {},
     "output_type": "execute_result"
    }
   ],
   "source": [
    "#checking for missing values \n",
    "data.isna().sum()"
   ]
  },
  {
   "cell_type": "code",
   "execution_count": 9,
   "id": "85d6734f",
   "metadata": {},
   "outputs": [
    {
     "data": {
      "text/html": [
       "<div>\n",
       "<style scoped>\n",
       "    .dataframe tbody tr th:only-of-type {\n",
       "        vertical-align: middle;\n",
       "    }\n",
       "\n",
       "    .dataframe tbody tr th {\n",
       "        vertical-align: top;\n",
       "    }\n",
       "\n",
       "    .dataframe thead th {\n",
       "        text-align: right;\n",
       "    }\n",
       "</style>\n",
       "<table border=\"1\" class=\"dataframe\">\n",
       "  <thead>\n",
       "    <tr style=\"text-align: right;\">\n",
       "      <th></th>\n",
       "      <th>Segment</th>\n",
       "      <th>Country</th>\n",
       "      <th>Product</th>\n",
       "      <th>Discount_Band</th>\n",
       "      <th>Units_Sold</th>\n",
       "      <th>Manufacturing_Price</th>\n",
       "      <th>Sale_Price</th>\n",
       "      <th>Gross_Sales</th>\n",
       "      <th>Discounts</th>\n",
       "      <th>Sales</th>\n",
       "      <th>COGS</th>\n",
       "      <th>Profit</th>\n",
       "      <th>Month_Name</th>\n",
       "    </tr>\n",
       "  </thead>\n",
       "  <tbody>\n",
       "    <tr>\n",
       "      <th>count</th>\n",
       "      <td>700</td>\n",
       "      <td>700</td>\n",
       "      <td>700</td>\n",
       "      <td>700</td>\n",
       "      <td>700</td>\n",
       "      <td>700</td>\n",
       "      <td>700</td>\n",
       "      <td>700</td>\n",
       "      <td>700</td>\n",
       "      <td>700</td>\n",
       "      <td>700</td>\n",
       "      <td>700</td>\n",
       "      <td>700</td>\n",
       "    </tr>\n",
       "    <tr>\n",
       "      <th>unique</th>\n",
       "      <td>5</td>\n",
       "      <td>5</td>\n",
       "      <td>6</td>\n",
       "      <td>4</td>\n",
       "      <td>510</td>\n",
       "      <td>6</td>\n",
       "      <td>7</td>\n",
       "      <td>550</td>\n",
       "      <td>515</td>\n",
       "      <td>559</td>\n",
       "      <td>545</td>\n",
       "      <td>557</td>\n",
       "      <td>12</td>\n",
       "    </tr>\n",
       "    <tr>\n",
       "      <th>top</th>\n",
       "      <td>Government</td>\n",
       "      <td>Canada</td>\n",
       "      <td>Paseo</td>\n",
       "      <td>High</td>\n",
       "      <td>$727.00</td>\n",
       "      <td>$10.00</td>\n",
       "      <td>$20.00</td>\n",
       "      <td>$37,050.00</td>\n",
       "      <td>$-</td>\n",
       "      <td>$20,794.80</td>\n",
       "      <td>$17,430.00</td>\n",
       "      <td>$-</td>\n",
       "      <td>October</td>\n",
       "    </tr>\n",
       "    <tr>\n",
       "      <th>freq</th>\n",
       "      <td>300</td>\n",
       "      <td>140</td>\n",
       "      <td>202</td>\n",
       "      <td>245</td>\n",
       "      <td>5</td>\n",
       "      <td>202</td>\n",
       "      <td>100</td>\n",
       "      <td>3</td>\n",
       "      <td>53</td>\n",
       "      <td>2</td>\n",
       "      <td>4</td>\n",
       "      <td>5</td>\n",
       "      <td>140</td>\n",
       "    </tr>\n",
       "  </tbody>\n",
       "</table>\n",
       "</div>"
      ],
      "text/plain": [
       "           Segment Country  Product Discount_Band Units_Sold  \\\n",
       "count          700     700      700           700        700   \n",
       "unique           5       5        6             4        510   \n",
       "top     Government  Canada   Paseo          High    $727.00    \n",
       "freq           300     140      202           245          5   \n",
       "\n",
       "       Manufacturing_Price Sale_Price   Gross_Sales Discounts         Sales  \\\n",
       "count                  700        700           700       700           700   \n",
       "unique                   6          7           550       515           559   \n",
       "top                $10.00     $20.00    $37,050.00      $-      $20,794.80    \n",
       "freq                   202        100             3        53             2   \n",
       "\n",
       "                COGS  Profit Month_Name  \n",
       "count            700     700        700  \n",
       "unique           545     557         12  \n",
       "top      $17,430.00    $-      October   \n",
       "freq               4       5        140  "
      ]
     },
     "execution_count": 9,
     "metadata": {},
     "output_type": "execute_result"
    }
   ],
   "source": [
    "data.describe(include='object')"
   ]
  },
  {
   "cell_type": "code",
   "execution_count": 10,
   "id": "37826a41",
   "metadata": {},
   "outputs": [],
   "source": [
    "#making the data uniform in Discount_band column\n",
    "data['Discount_Band'] = data['Discount_Band'].str.strip()"
   ]
  },
  {
   "cell_type": "code",
   "execution_count": 11,
   "id": "50d77e27",
   "metadata": {},
   "outputs": [],
   "source": [
    "#removing the $ from all the columns\n",
    "data.iloc[:,4:12] = (data.iloc[:,4:12]).applymap(str)"
   ]
  },
  {
   "cell_type": "code",
   "execution_count": 12,
   "id": "378cb929",
   "metadata": {},
   "outputs": [],
   "source": [
    "# #removing the leading and trailing white space\n",
    "data.iloc[:,4:12] = data.iloc[:,4:12].applymap(lambda x:x.strip() if isinstance(x,str) else x)\n",
    "\n",
    "# #removing the dollar signs from the numeric values\n",
    "data.iloc[:,4:12] = data.iloc[:,4:12].applymap(lambda x:x.replace('$','') if isinstance(x,str) else x)\n",
    "\n",
    "# #replacing the '-' with 0 in the  dataframe\n",
    "data.iloc[:,4:12] = data.iloc[:,4:12].applymap(lambda x:x.replace('-','0') if isinstance(x,str) else x)\n",
    "\n",
    "#replacing the '(' with 0 in the  dataframe\n",
    "data.iloc[:,4:12] = data.iloc[:,4:12].applymap(lambda x:x.replace('(','') if isinstance(x,str) else x)\n",
    "\n",
    "#replacing the ')' with 0 in the  dataframe\n",
    "data.iloc[:,4:12] = data.iloc[:,4:12].applymap(lambda x:x.replace(')','') if isinstance(x,str) else x)\n",
    "\n",
    "#removing commas from the values\n",
    "data.iloc[:,4:12] = data.iloc[:,4:12].applymap(lambda x:x.replace(',','') if isinstance(x,str) else x)"
   ]
  },
  {
   "cell_type": "code",
   "execution_count": 13,
   "id": "0a19a32e",
   "metadata": {},
   "outputs": [],
   "source": [
    "# Converting numeric DataFrame columns to float.\n",
    "data.iloc[:,4:12] = data.iloc[:,4:12].apply(lambda x: x.astype('float64'))"
   ]
  },
  {
   "cell_type": "code",
   "execution_count": 14,
   "id": "b99bfc0b",
   "metadata": {},
   "outputs": [
    {
     "data": {
      "text/html": [
       "<div>\n",
       "<style scoped>\n",
       "    .dataframe tbody tr th:only-of-type {\n",
       "        vertical-align: middle;\n",
       "    }\n",
       "\n",
       "    .dataframe tbody tr th {\n",
       "        vertical-align: top;\n",
       "    }\n",
       "\n",
       "    .dataframe thead th {\n",
       "        text-align: right;\n",
       "    }\n",
       "</style>\n",
       "<table border=\"1\" class=\"dataframe\">\n",
       "  <thead>\n",
       "    <tr style=\"text-align: right;\">\n",
       "      <th></th>\n",
       "      <th>Segment</th>\n",
       "      <th>Country</th>\n",
       "      <th>Product</th>\n",
       "      <th>Discount_Band</th>\n",
       "      <th>Units_Sold</th>\n",
       "      <th>Manufacturing_Price</th>\n",
       "      <th>Sale_Price</th>\n",
       "      <th>Gross_Sales</th>\n",
       "      <th>Discounts</th>\n",
       "      <th>Sales</th>\n",
       "      <th>COGS</th>\n",
       "      <th>Profit</th>\n",
       "      <th>Date</th>\n",
       "      <th>Month_Number</th>\n",
       "      <th>Month_Name</th>\n",
       "      <th>Year</th>\n",
       "    </tr>\n",
       "  </thead>\n",
       "  <tbody>\n",
       "    <tr>\n",
       "      <th>0</th>\n",
       "      <td>Government</td>\n",
       "      <td>Canada</td>\n",
       "      <td>Carretera</td>\n",
       "      <td>None</td>\n",
       "      <td>1618.5</td>\n",
       "      <td>3.0</td>\n",
       "      <td>20.0</td>\n",
       "      <td>32370.0</td>\n",
       "      <td>0.00</td>\n",
       "      <td>32370.00</td>\n",
       "      <td>16185.0</td>\n",
       "      <td>16185.00</td>\n",
       "      <td>2014-01-01</td>\n",
       "      <td>1</td>\n",
       "      <td>January</td>\n",
       "      <td>2014</td>\n",
       "    </tr>\n",
       "    <tr>\n",
       "      <th>1</th>\n",
       "      <td>Government</td>\n",
       "      <td>Germany</td>\n",
       "      <td>Carretera</td>\n",
       "      <td>None</td>\n",
       "      <td>1321.0</td>\n",
       "      <td>3.0</td>\n",
       "      <td>20.0</td>\n",
       "      <td>26420.0</td>\n",
       "      <td>0.00</td>\n",
       "      <td>26420.00</td>\n",
       "      <td>13210.0</td>\n",
       "      <td>13210.00</td>\n",
       "      <td>2014-01-01</td>\n",
       "      <td>1</td>\n",
       "      <td>January</td>\n",
       "      <td>2014</td>\n",
       "    </tr>\n",
       "    <tr>\n",
       "      <th>2</th>\n",
       "      <td>Midmarket</td>\n",
       "      <td>France</td>\n",
       "      <td>Carretera</td>\n",
       "      <td>None</td>\n",
       "      <td>2178.0</td>\n",
       "      <td>3.0</td>\n",
       "      <td>15.0</td>\n",
       "      <td>32670.0</td>\n",
       "      <td>0.00</td>\n",
       "      <td>32670.00</td>\n",
       "      <td>21780.0</td>\n",
       "      <td>10890.00</td>\n",
       "      <td>2014-01-06</td>\n",
       "      <td>6</td>\n",
       "      <td>June</td>\n",
       "      <td>2014</td>\n",
       "    </tr>\n",
       "    <tr>\n",
       "      <th>3</th>\n",
       "      <td>Midmarket</td>\n",
       "      <td>Germany</td>\n",
       "      <td>Carretera</td>\n",
       "      <td>None</td>\n",
       "      <td>888.0</td>\n",
       "      <td>3.0</td>\n",
       "      <td>15.0</td>\n",
       "      <td>13320.0</td>\n",
       "      <td>0.00</td>\n",
       "      <td>13320.00</td>\n",
       "      <td>8880.0</td>\n",
       "      <td>4440.00</td>\n",
       "      <td>2014-01-06</td>\n",
       "      <td>6</td>\n",
       "      <td>June</td>\n",
       "      <td>2014</td>\n",
       "    </tr>\n",
       "    <tr>\n",
       "      <th>4</th>\n",
       "      <td>Midmarket</td>\n",
       "      <td>Mexico</td>\n",
       "      <td>Carretera</td>\n",
       "      <td>None</td>\n",
       "      <td>2470.0</td>\n",
       "      <td>3.0</td>\n",
       "      <td>15.0</td>\n",
       "      <td>37050.0</td>\n",
       "      <td>0.00</td>\n",
       "      <td>37050.00</td>\n",
       "      <td>24700.0</td>\n",
       "      <td>12350.00</td>\n",
       "      <td>2014-01-06</td>\n",
       "      <td>6</td>\n",
       "      <td>June</td>\n",
       "      <td>2014</td>\n",
       "    </tr>\n",
       "    <tr>\n",
       "      <th>...</th>\n",
       "      <td>...</td>\n",
       "      <td>...</td>\n",
       "      <td>...</td>\n",
       "      <td>...</td>\n",
       "      <td>...</td>\n",
       "      <td>...</td>\n",
       "      <td>...</td>\n",
       "      <td>...</td>\n",
       "      <td>...</td>\n",
       "      <td>...</td>\n",
       "      <td>...</td>\n",
       "      <td>...</td>\n",
       "      <td>...</td>\n",
       "      <td>...</td>\n",
       "      <td>...</td>\n",
       "      <td>...</td>\n",
       "    </tr>\n",
       "    <tr>\n",
       "      <th>695</th>\n",
       "      <td>Small Business</td>\n",
       "      <td>France</td>\n",
       "      <td>Amarilla</td>\n",
       "      <td>High</td>\n",
       "      <td>2475.0</td>\n",
       "      <td>260.0</td>\n",
       "      <td>300.0</td>\n",
       "      <td>742500.0</td>\n",
       "      <td>111375.00</td>\n",
       "      <td>631125.00</td>\n",
       "      <td>618750.0</td>\n",
       "      <td>12375.00</td>\n",
       "      <td>2014-01-03</td>\n",
       "      <td>3</td>\n",
       "      <td>March</td>\n",
       "      <td>2014</td>\n",
       "    </tr>\n",
       "    <tr>\n",
       "      <th>696</th>\n",
       "      <td>Small Business</td>\n",
       "      <td>Mexico</td>\n",
       "      <td>Amarilla</td>\n",
       "      <td>High</td>\n",
       "      <td>546.0</td>\n",
       "      <td>260.0</td>\n",
       "      <td>300.0</td>\n",
       "      <td>163800.0</td>\n",
       "      <td>24570.00</td>\n",
       "      <td>139230.00</td>\n",
       "      <td>136500.0</td>\n",
       "      <td>2730.00</td>\n",
       "      <td>2014-01-10</td>\n",
       "      <td>10</td>\n",
       "      <td>October</td>\n",
       "      <td>2014</td>\n",
       "    </tr>\n",
       "    <tr>\n",
       "      <th>697</th>\n",
       "      <td>Government</td>\n",
       "      <td>Mexico</td>\n",
       "      <td>Montana</td>\n",
       "      <td>High</td>\n",
       "      <td>1368.0</td>\n",
       "      <td>5.0</td>\n",
       "      <td>7.0</td>\n",
       "      <td>9576.0</td>\n",
       "      <td>1436.40</td>\n",
       "      <td>8139.60</td>\n",
       "      <td>6840.0</td>\n",
       "      <td>1299.60</td>\n",
       "      <td>2014-01-02</td>\n",
       "      <td>2</td>\n",
       "      <td>February</td>\n",
       "      <td>2014</td>\n",
       "    </tr>\n",
       "    <tr>\n",
       "      <th>698</th>\n",
       "      <td>Government</td>\n",
       "      <td>Canada</td>\n",
       "      <td>Paseo</td>\n",
       "      <td>High</td>\n",
       "      <td>723.0</td>\n",
       "      <td>10.0</td>\n",
       "      <td>7.0</td>\n",
       "      <td>5061.0</td>\n",
       "      <td>759.15</td>\n",
       "      <td>4301.85</td>\n",
       "      <td>3615.0</td>\n",
       "      <td>686.85</td>\n",
       "      <td>2014-01-04</td>\n",
       "      <td>4</td>\n",
       "      <td>April</td>\n",
       "      <td>2014</td>\n",
       "    </tr>\n",
       "    <tr>\n",
       "      <th>699</th>\n",
       "      <td>Channel Partners</td>\n",
       "      <td>United States of America</td>\n",
       "      <td>VTT</td>\n",
       "      <td>High</td>\n",
       "      <td>1806.0</td>\n",
       "      <td>250.0</td>\n",
       "      <td>12.0</td>\n",
       "      <td>21672.0</td>\n",
       "      <td>3250.80</td>\n",
       "      <td>18421.20</td>\n",
       "      <td>5418.0</td>\n",
       "      <td>13003.20</td>\n",
       "      <td>2014-01-05</td>\n",
       "      <td>5</td>\n",
       "      <td>May</td>\n",
       "      <td>2014</td>\n",
       "    </tr>\n",
       "  </tbody>\n",
       "</table>\n",
       "<p>700 rows × 16 columns</p>\n",
       "</div>"
      ],
      "text/plain": [
       "              Segment                   Country      Product Discount_Band  \\\n",
       "0          Government                    Canada   Carretera           None   \n",
       "1          Government                   Germany   Carretera           None   \n",
       "2           Midmarket                    France   Carretera           None   \n",
       "3           Midmarket                   Germany   Carretera           None   \n",
       "4           Midmarket                    Mexico   Carretera           None   \n",
       "..                ...                       ...          ...           ...   \n",
       "695    Small Business                    France    Amarilla           High   \n",
       "696    Small Business                    Mexico    Amarilla           High   \n",
       "697        Government                    Mexico     Montana           High   \n",
       "698        Government                    Canada       Paseo           High   \n",
       "699  Channel Partners  United States of America         VTT           High   \n",
       "\n",
       "     Units_Sold  Manufacturing_Price  Sale_Price  Gross_Sales  Discounts  \\\n",
       "0        1618.5                  3.0        20.0      32370.0       0.00   \n",
       "1        1321.0                  3.0        20.0      26420.0       0.00   \n",
       "2        2178.0                  3.0        15.0      32670.0       0.00   \n",
       "3         888.0                  3.0        15.0      13320.0       0.00   \n",
       "4        2470.0                  3.0        15.0      37050.0       0.00   \n",
       "..          ...                  ...         ...          ...        ...   \n",
       "695      2475.0                260.0       300.0     742500.0  111375.00   \n",
       "696       546.0                260.0       300.0     163800.0   24570.00   \n",
       "697      1368.0                  5.0         7.0       9576.0    1436.40   \n",
       "698       723.0                 10.0         7.0       5061.0     759.15   \n",
       "699      1806.0                250.0        12.0      21672.0    3250.80   \n",
       "\n",
       "         Sales      COGS    Profit       Date  Month_Number  Month_Name  Year  \n",
       "0     32370.00   16185.0  16185.00 2014-01-01             1    January   2014  \n",
       "1     26420.00   13210.0  13210.00 2014-01-01             1    January   2014  \n",
       "2     32670.00   21780.0  10890.00 2014-01-06             6       June   2014  \n",
       "3     13320.00    8880.0   4440.00 2014-01-06             6       June   2014  \n",
       "4     37050.00   24700.0  12350.00 2014-01-06             6       June   2014  \n",
       "..         ...       ...       ...        ...           ...         ...   ...  \n",
       "695  631125.00  618750.0  12375.00 2014-01-03             3      March   2014  \n",
       "696  139230.00  136500.0   2730.00 2014-01-10            10    October   2014  \n",
       "697    8139.60    6840.0   1299.60 2014-01-02             2   February   2014  \n",
       "698    4301.85    3615.0    686.85 2014-01-04             4      April   2014  \n",
       "699   18421.20    5418.0  13003.20 2014-01-05             5        May   2014  \n",
       "\n",
       "[700 rows x 16 columns]"
      ]
     },
     "execution_count": 14,
     "metadata": {},
     "output_type": "execute_result"
    }
   ],
   "source": [
    "data"
   ]
  },
  {
   "cell_type": "code",
   "execution_count": 15,
   "id": "0e9c7867",
   "metadata": {},
   "outputs": [
    {
     "data": {
      "text/plain": [
       "{'Government': 56403066.5,\n",
       " 'Midmarket': 2582670.0,\n",
       " 'Channel Partners': 1935162.0,\n",
       " 'Enterprise': 21069000.0,\n",
       " 'Small Business': 45941700.0}"
      ]
     },
     "execution_count": 15,
     "metadata": {},
     "output_type": "execute_result"
    }
   ],
   "source": [
    "#calculating total gross segment wise:-\n",
    "total_gross_dict = {}\n",
    "for i in data['Segment'].unique() :\n",
    "    total_gross = 0\n",
    "    for j in range(len(data['Gross_Sales'])):#performing the total gross group wise   \n",
    "        if data.loc[j,'Segment'] == i:\n",
    "            total_gross += data.loc[j,'Gross_Sales']\n",
    "    total_gross_dict[i] = total_gross\n",
    "\n",
    "total_gross_dict"
   ]
  },
  {
   "cell_type": "code",
   "execution_count": 17,
   "id": "aeeca632",
   "metadata": {},
   "outputs": [
    {
     "data": {
      "image/png": "[encoded data removed]",
      "text/plain": [
       "<Figure size 432x288 with 1 Axes>"
      ]
     },
     "metadata": {
      "needs_background": "light"
     },
     "output_type": "display_data"
    }
   ],
   "source": [
    "#total gross sales visual depiction\n",
    "total_gross_df = pd.DataFrame(list(total_gross_dict.items()),columns=['Segment','Total_Gross'])\n",
    "total_gross_df.plot(x = 'Segment',y='Total_Gross', kind= 'bar',color = ['#ff7f0e','#1f77b4', '#2ca02c', '#d62728', '#9467bd'])\n",
    "\n",
    "# Add labels and title\n",
    "plt.xlabel('Segment',fontsize=12)\n",
    "plt.ylabel('Total Gross',fontsize=12)\n",
    "plt.title('Segment-wise Total Gross',fontsize=14)\n",
    "\n",
    "# Show the plot\n",
    "plt.show()"
   ]
  },
  {
   "cell_type": "code",
   "execution_count": 18,
   "id": "fb7af831",
   "metadata": {},
   "outputs": [
    {
     "name": "stdout",
     "output_type": "stream",
     "text": [
      "Segment with highest average gross =  Small Business\n"
     ]
    }
   ],
   "source": [
    "#Determing highest average sales price segment-wise\n",
    "\n",
    "seg_cnt = data['Segment'].value_counts()\n",
    "dict(seg_cnt)\n",
    "\n",
    "avg_seg_gross = {}\n",
    "for i in data['Segment'].unique():\n",
    "    avg_seg_gross[i] = total_gross_dict[i]/seg_cnt[i]\n",
    "    \n",
    "highest_seg_avg = [i for i in avg_seg_gross if avg_seg_gross[i] == max(avg_seg_gross.values())][0]\n",
    "\n",
    "print('Segment with highest average gross = ',highest_seg_avg)"
   ]
  },
  {
   "cell_type": "code",
   "execution_count": 19,
   "id": "86052313",
   "metadata": {},
   "outputs": [
    {
     "data": {
      "text/plain": [
       "{'Government': 188010.22166666668,\n",
       " 'Midmarket': 25826.7,\n",
       " 'Channel Partners': 19351.62,\n",
       " 'Enterprise': 210690.0,\n",
       " 'Small Business': 459417.0}"
      ]
     },
     "execution_count": 19,
     "metadata": {},
     "output_type": "execute_result"
    }
   ],
   "source": [
    "avg_seg_gross"
   ]
  },
  {
   "cell_type": "code",
   "execution_count": 20,
   "id": "76766a67",
   "metadata": {},
   "outputs": [
    {
     "data": {
      "text/plain": [
       "{'Canada': 24887654.890000004,\n",
       " 'Germany': 23505340.82000001,\n",
       " 'France': 24354172.290000007,\n",
       " 'Mexico': 20949352.11,\n",
       " 'United States of America': 25029830.18000001}"
      ]
     },
     "execution_count": 20,
     "metadata": {},
     "output_type": "execute_result"
    }
   ],
   "source": [
    "# Calculate the total sales for each country.\n",
    "country_total = {}\n",
    "for i in data['Country'].unique():\n",
    "    country_sum = 0\n",
    "    for j in range(len(data['Country'])):\n",
    "        if i == data.loc[j,'Country']:\n",
    "            country_sum += data.loc[j,'Sales']\n",
    "    country_total[i] = country_sum\n",
    "country_total"
   ]
  },
  {
   "cell_type": "code",
   "execution_count": 21,
   "id": "3891dc53",
   "metadata": {},
   "outputs": [
    {
     "data": {
      "image/png": "[encoded data removed]",
      "text/plain": [
       "<Figure size 432x288 with 1 Axes>"
      ]
     },
     "metadata": {
      "needs_background": "light"
     },
     "output_type": "display_data"
    }
   ],
   "source": [
    "# Visualize country-wise sales using a bar plot.\n",
    "country_total_df = pd.DataFrame(data = list(country_total.items()),columns=['Country','Total_Sales'])\n",
    "country_total_df.plot(x = 'Country',y='Total_Sales',kind = 'bar',color = ['#ff7f0e','#1f77b4', '#2ca02c', '#d62728', '#9467bd'])\n",
    "\n",
    "plt.xlabel('Country',fontsize=12)\n",
    "plt.ylabel('Total_Sales',fontsize=12)\n",
    "plt.title('Country-wise Sales Plot',fontsize=14)\n",
    "plt.show()"
   ]
  },
  {
   "cell_type": "code",
   "execution_count": 22,
   "id": "646760b1",
   "metadata": {
    "scrolled": true
   },
   "outputs": [
    {
     "data": {
      "text/html": [
       "<div>\n",
       "<style scoped>\n",
       "    .dataframe tbody tr th:only-of-type {\n",
       "        vertical-align: middle;\n",
       "    }\n",
       "\n",
       "    .dataframe tbody tr th {\n",
       "        vertical-align: top;\n",
       "    }\n",
       "\n",
       "    .dataframe thead th {\n",
       "        text-align: right;\n",
       "    }\n",
       "</style>\n",
       "<table border=\"1\" class=\"dataframe\">\n",
       "  <thead>\n",
       "    <tr style=\"text-align: right;\">\n",
       "      <th></th>\n",
       "      <th>Country</th>\n",
       "      <th>Sales</th>\n",
       "    </tr>\n",
       "  </thead>\n",
       "  <tbody>\n",
       "    <tr>\n",
       "      <th>124</th>\n",
       "      <td>Germany</td>\n",
       "      <td>1017338.0</td>\n",
       "    </tr>\n",
       "    <tr>\n",
       "      <th>140</th>\n",
       "      <td>Germany</td>\n",
       "      <td>1017338.0</td>\n",
       "    </tr>\n",
       "    <tr>\n",
       "      <th>192</th>\n",
       "      <td>United States of America</td>\n",
       "      <td>1159200.0</td>\n",
       "    </tr>\n",
       "    <tr>\n",
       "      <th>405</th>\n",
       "      <td>Canada</td>\n",
       "      <td>1038082.5</td>\n",
       "    </tr>\n",
       "    <tr>\n",
       "      <th>423</th>\n",
       "      <td>Canada</td>\n",
       "      <td>1035625.5</td>\n",
       "    </tr>\n",
       "  </tbody>\n",
       "</table>\n",
       "</div>"
      ],
      "text/plain": [
       "                      Country      Sales\n",
       "124                   Germany  1017338.0\n",
       "140                   Germany  1017338.0\n",
       "192  United States of America  1159200.0\n",
       "405                    Canada  1038082.5\n",
       "423                    Canada  1035625.5"
      ]
     },
     "execution_count": 22,
     "metadata": {},
     "output_type": "execute_result"
    }
   ],
   "source": [
    "# Identify the top 5 countries with the highest units sold. - Check with the ambuiguity \n",
    "filt = (data['Sales'].isin(data['Sales'].nlargest(5)))\n",
    "data.loc[filt,['Country','Sales']]"
   ]
  },
  {
   "cell_type": "markdown",
   "id": "1373cbc1",
   "metadata": {},
   "source": [
    "Why?\n",
    "•Revenue Assessment\n",
    "\n",
    "•Profitability Evaluation\n",
    "\n",
    "•Pricing Strategy Refinement\n",
    "\n"
   ]
  },
  {
   "cell_type": "code",
   "execution_count": 23,
   "id": "75ab9b71",
   "metadata": {},
   "outputs": [],
   "source": [
    "# Analyze the impact of discounts on gross sales.\n",
    "\n",
    "# Calculate total sales with discounts\n",
    "total_sales_with_discounts = data['Gross_Sales'] - data['Discounts']\n",
    "\n",
    "# Calculate total sales without discounts\n",
    "total_sales_without_discounts = data['Gross_Sales']\n"
   ]
  },
  {
   "cell_type": "code",
   "execution_count": 24,
   "id": "beb030ea",
   "metadata": {},
   "outputs": [],
   "source": [
    "# Calculate average gross sales with discounts\n",
    "average_sales_with_discounts = total_sales_with_discounts.mean()\n",
    "\n",
    "# Calculate average gross sales without discounts\n",
    "average_sales_without_discounts = total_sales_without_discounts.mean()\n",
    "\n",
    "# Calculate total gross sales for the entire dataset\n",
    "total_gross_sales = data['Gross_Sales'].sum()\n"
   ]
  },
  {
   "cell_type": "code",
   "execution_count": 25,
   "id": "5a66eb4f",
   "metadata": {},
   "outputs": [
    {
     "data": {
      "image/png": "[encoded data removed]",
      "text/plain": [
       "<Figure size 432x288 with 1 Axes>"
      ]
     },
     "metadata": {
      "needs_background": "light"
     },
     "output_type": "display_data"
    }
   ],
   "source": [
    "# Create a bar plot to compare average sales with and without discounts\n",
    "plt.bar(['With Discounts', 'Without Discounts'], [average_sales_with_discounts, average_sales_without_discounts])\n",
    "plt.title('Impact of Discounts on Gross Sales')\n",
    "plt.ylabel('Average Gross Sales')\n",
    "plt.show()\n"
   ]
  },
  {
   "cell_type": "code",
   "execution_count": 26,
   "id": "fee45bfe",
   "metadata": {},
   "outputs": [
    {
     "name": "stdout",
     "output_type": "stream",
     "text": [
      "T-Statistic: -1.0015052512537008\n",
      "P-Value: 0.31675591544092924\n",
      "The difference in average sales is not statistically significant.\n"
     ]
    }
   ],
   "source": [
    "#ask - used chatgpt\n",
    "from scipy.stats import ttest_ind\n",
    "\n",
    "# Perform a two-sample t-test\n",
    "t_statistic, p_value = ttest_ind(total_sales_with_discounts, total_sales_without_discounts)\n",
    "\n",
    "print(f\"T-Statistic: {t_statistic}\")\n",
    "print(f\"P-Value: {p_value}\")\n",
    "\n",
    "if p_value < 0.05:\n",
    "    print(\"The difference in average sales is statistically significant.\")\n",
    "else:\n",
    "    print(\"The difference in average sales is not statistically significant.\")#doubt --> why are they not significant?\n"
   ]
  },
  {
   "cell_type": "code",
   "execution_count": 27,
   "id": "778010a4",
   "metadata": {},
   "outputs": [],
   "source": [
    "# Step 5: Time Series Analysis\n",
    "# Group the data by year and month to understand sales trends over time.\n",
    "\n",
    "#grouping the data year wise.\n",
    "year_grp = data.groupby('Year')\n",
    "year_dict = {}\n",
    "for i in data['Year'].unique():\n",
    "    year_dict[i] = year_grp.get_group(i)\n"
   ]
  },
  {
   "cell_type": "code",
   "execution_count": 28,
   "id": "4fec5e48",
   "metadata": {},
   "outputs": [
    {
     "data": {
      "image/png": "[encoded data removed]",
      "text/plain": [
       "<Figure size 432x288 with 1 Axes>"
      ]
     },
     "metadata": {
      "needs_background": "light"
     },
     "output_type": "display_data"
    }
   ],
   "source": [
    "#line chart \n",
    "\n",
    "for year, new_df in year_dict.items():\n",
    "    plt.plot(new_df['Year'],new_df['Sales'],label = str(year))\n",
    "plt.title('Product Sales Over Years')\n",
    "plt.xlabel('Year')\n",
    "plt.ylabel('Sales')\n",
    "plt.legend(title='Year')\n",
    "plt.show()"
   ]
  },
  {
   "cell_type": "code",
   "execution_count": 29,
   "id": "e4bc8c8a",
   "metadata": {},
   "outputs": [
    {
     "data": {
      "image/png": "[encoded data removed]",
      "text/plain": [
       "<Figure size 720x432 with 1 Axes>"
      ]
     },
     "metadata": {
      "needs_background": "light"
     },
     "output_type": "display_data"
    }
   ],
   "source": [
    "# plt.figure(figsize=(10, 6))\n",
    "# plt.plot(data['Year'],data['Sales'],linestyle='-')\n",
    "sales_by_year = data.groupby('Year')['Sales'].sum().reset_index()\n",
    "# Create line chart\n",
    "plt.figure(figsize=(10, 6))\n",
    "plt.plot(sales_by_year['Year'], sales_by_year['Sales'], marker='o')\n",
    "\n",
    "# Add labels and title\n",
    "plt.xlabel('Year')\n",
    "plt.ylabel('Total Sales')\n",
    "plt.title('Sales Across Years')\n",
    "\n",
    "# Show the plot\n",
    "plt.grid(True)\n",
    "plt.show()\n"
   ]
  },
  {
   "cell_type": "code",
   "execution_count": 30,
   "id": "56cc1ece",
   "metadata": {},
   "outputs": [],
   "source": [
    "#grouping the data month wise.\n",
    "\n",
    "#correcting the values of month_name column\n",
    "data['Month_Name'] = data['Month_Name'].apply(lambda x:x.strip())\n",
    "\n",
    "###NOTE: try checking for duplicate values.\n",
    "\n",
    "month_grp = data.groupby('Month_Name')\n",
    "month_dict = {}\n",
    "for i in data['Month_Name'].unique():\n",
    "    month_dict[i] = month_grp.get_group(i)\n"
   ]
  },
  {
   "cell_type": "code",
   "execution_count": 31,
   "id": "4bf920a5",
   "metadata": {},
   "outputs": [
    {
     "data": {
      "image/png": "[encoded data removed]",
      "text/plain": [
       "<Figure size 1296x720 with 1 Axes>"
      ]
     },
     "metadata": {
      "needs_background": "light"
     },
     "output_type": "display_data"
    }
   ],
   "source": [
    "#line chart month\n",
    "plt.figure(figsize=(18, 10))\n",
    "for month, new_df in month_dict.items():\n",
    "    plt.plot(new_df['Month_Name'],new_df['Sales'],label = str(month))\n",
    "plt.title('Product Sales Over Months')\n",
    "plt.xlabel('Month')\n",
    "plt.ylabel('Sales')\n",
    "plt.legend(title='Month')\n",
    "plt.show()\n",
    "#correct hte figure size"
   ]
  },
  {
   "cell_type": "code",
   "execution_count": 32,
   "id": "320ae0d7",
   "metadata": {},
   "outputs": [],
   "source": [
    "# Step 6: Profit Margin Analysis\n",
    "# Calculate the profit margin for each row using the formula: (Gross Sales - COGS) / Gross Sales.\n",
    "profit_margin = (data['Gross_Sales']-data['COGS'])/data['Gross_Sales'] #series\n",
    "data['Profit_Margin'] = profit_margin"
   ]
  },
  {
   "cell_type": "code",
   "execution_count": 33,
   "id": "ca17153b",
   "metadata": {},
   "outputs": [
    {
     "data": {
      "image/png": "[encoded data removed]",
      "text/plain": [
       "<Figure size 720x432 with 1 Axes>"
      ]
     },
     "metadata": {
      "needs_background": "light"
     },
     "output_type": "display_data"
    }
   ],
   "source": [
    "plt.figure(figsize=(10, 6))\n",
    "plt.hist(data['Profit_Margin'], bins=20, edgecolor='black')\n",
    "plt.title('Distribution of Profit Margins')\n",
    "plt.xlabel('Profit Margin (%)')\n",
    "plt.ylabel('Frequency')\n",
    "plt.grid(True)\n",
    "plt.show()"
   ]
  },
  {
   "cell_type": "code",
   "execution_count": 34,
   "id": "84793239",
   "metadata": {},
   "outputs": [
    {
     "data": {
      "image/png": "[encoded data removed]",
      "text/plain": [
       "<Figure size 432x288 with 1 Axes>"
      ]
     },
     "metadata": {
      "needs_background": "light"
     },
     "output_type": "display_data"
    }
   ],
   "source": [
    "# creating figure and axes to\n",
    "# plot the image\n",
    "uniform = list(data['Profit_Margin'])\n",
    "# Create a figure instance\n",
    "fig = plt.figure()\n",
    "  \n",
    "# Create an axes instance\n",
    "ax = fig.gca()\n",
    "# Create the violinplot\n",
    "violinplot = ax.violinplot(uniform) #check if correct \n",
    "plt.show()"
   ]
  },
  {
   "cell_type": "code",
   "execution_count": 35,
   "id": "11e96792",
   "metadata": {},
   "outputs": [],
   "source": [
    "import seaborn as sns "
   ]
  },
  {
   "cell_type": "code",
   "execution_count": 36,
   "id": "50509abb",
   "metadata": {},
   "outputs": [
    {
     "data": {
      "text/plain": [
       "<AxesSubplot:xlabel='Profit_Margin', ylabel='Count'>"
      ]
     },
     "execution_count": 36,
     "metadata": {},
     "output_type": "execute_result"
    },
    {
     "data": {
      "image/png": "[encoded data removed]",
      "text/plain": [
       "<Figure size 432x288 with 1 Axes>"
      ]
     },
     "metadata": {
      "needs_background": "light"
     },
     "output_type": "display_data"
    }
   ],
   "source": [
    "sns.histplot(data.Profit_Margin,kde = True)"
   ]
  },
  {
   "cell_type": "code",
   "execution_count": 37,
   "id": "2af6ed28",
   "metadata": {},
   "outputs": [
    {
     "data": {
      "text/plain": [
       "<AxesSubplot:>"
      ]
     },
     "execution_count": 37,
     "metadata": {},
     "output_type": "execute_result"
    },
    {
     "data": {
      "image/png": "[encoded data removed]",
      "text/plain": [
       "<Figure size 432x288 with 1 Axes>"
      ]
     },
     "metadata": {
      "needs_background": "light"
     },
     "output_type": "display_data"
    }
   ],
   "source": [
    "sns.boxplot(data.Profit_Margin)"
   ]
  },
  {
   "cell_type": "code",
   "execution_count": 38,
   "id": "3341fc6c",
   "metadata": {},
   "outputs": [
    {
     "data": {
      "image/png": "[encoded data removed]",
      "text/plain": [
       "<Figure size 864x576 with 1 Axes>"
      ]
     },
     "metadata": {
      "needs_background": "light"
     },
     "output_type": "display_data"
    }
   ],
   "source": [
    "plt.figure(figsize=(12, 8))\n",
    "sns.violinplot(x=\"Segment\", y=\"Profit_Margin\",data = data,linewidth=3)\n",
    "plt.show()"
   ]
  },
  {
   "cell_type": "code",
   "execution_count": null,
   "id": "4da102fa",
   "metadata": {},
   "outputs": [],
   "source": []
  },
  {
   "cell_type": "markdown",
   "id": "b8231e11",
   "metadata": {
    "collapsed": true
   },
   "source": [
    "# READ THE Automating EDA article book marked on saakshid24 google."
   ]
  },
  {
   "cell_type": "markdown",
   "id": "d11df477",
   "metadata": {},
   "source": [
    "# "
   ]
  },
  {
   "cell_type": "markdown",
   "id": "bd153185",
   "metadata": {},
   "source": [
    "# 2.0"
   ]
  },
  {
   "cell_type": "code",
   "execution_count": 39,
   "id": "5d538bc8",
   "metadata": {},
   "outputs": [],
   "source": [
    "from sklearn.linear_model import LinearRegression\n",
    "from sklearn.model_selection import train_test_split"
   ]
  },
  {
   "cell_type": "code",
   "execution_count": 40,
   "id": "b5ab33f9",
   "metadata": {
    "scrolled": true
   },
   "outputs": [
    {
     "data": {
      "image/png": "[encoded data removed]",
      "text/plain": [
       "<Figure size 432x288 with 1 Axes>"
      ]
     },
     "metadata": {
      "needs_background": "light"
     },
     "output_type": "display_data"
    }
   ],
   "source": [
    "df_encoded = pd.get_dummies(data, columns=['Discount_Band'], prefix=['Discount'])\n",
    "X = df_encoded[['Discount_None', 'Discount_Low', 'Discount_Medium', 'Discount_High']]\n",
    "y = data['Profit']\n",
    "model = LinearRegression()\n",
    "model.fit(X, y)\n",
    "coefficients = model.coef_\n",
    "intercept = model.intercept_\n",
    "plt.scatter(X.index, y, color='blue', label='Actual Profit')\n",
    "plt.plot(X.index, model.predict(X), color='red', label='Predicted Profit')\n",
    "plt.xlabel('Sample Index')\n",
    "plt.ylabel('Profit')\n",
    "plt.title('Linear Regression: Discount Level vs. Profit')\n",
    "plt.legend()\n",
    "plt.show()\n"
   ]
  },
  {
   "cell_type": "code",
   "execution_count": 41,
   "id": "59b65b21",
   "metadata": {},
   "outputs": [
    {
     "name": "stdout",
     "output_type": "stream",
     "text": [
      "0.02772133656206799\n"
     ]
    }
   ],
   "source": [
    "#linear regression using another method\n",
    "df_encoded = pd.get_dummies(data, columns=['Discount_Band'], prefix=['Discount'])\n",
    "X = df_encoded[['Discount_None', 'Discount_Low', 'Discount_Medium', 'Discount_High']]\n",
    "y = data['Profit']\n",
    "X_train,X_test,y_train,y_test = train_test_split(X,y,test_size=0.2,random_state=42)\n",
    "model1 = LinearRegression()\n",
    "model1.fit(X_train,y_train)\n",
    "\n",
    "from sklearn.metrics import r2_score\n",
    "score = r2_score(y_test, model1.predict(X_test))\n",
    "print(score)"
   ]
  },
  {
   "cell_type": "code",
   "execution_count": 42,
   "id": "8ba68c65",
   "metadata": {},
   "outputs": [
    {
     "data": {
      "text/plain": [
       "<function matplotlib.pyplot.show(close=None, block=None)>"
      ]
     },
     "execution_count": 42,
     "metadata": {},
     "output_type": "execute_result"
    },
    {
     "data": {
      "image/png": "[encoded data removed]",
      "text/plain": [
       "<Figure size 432x288 with 1 Axes>"
      ]
     },
     "metadata": {
      "needs_background": "light"
     },
     "output_type": "display_data"
    }
   ],
   "source": [
    "#visualising \n",
    "plt.plot(X_train.index,model1.predict(X_train),color='r')\n",
    "plt.scatter(X_train.index,y_train)\n",
    "plt.xlabel('Discount_bands')\n",
    "plt.ylabel('Profits')\n",
    "plt.show"
   ]
  },
  {
   "cell_type": "markdown",
   "id": "2c67f064",
   "metadata": {},
   "source": [
    "Clearly , there exists no linear relationship between Discount-Band and Profits"
   ]
  },
  {
   "cell_type": "code",
   "execution_count": 43,
   "id": "6450460d",
   "metadata": {},
   "outputs": [
    {
     "data": {
      "text/html": [
       "<div>\n",
       "<style scoped>\n",
       "    .dataframe tbody tr th:only-of-type {\n",
       "        vertical-align: middle;\n",
       "    }\n",
       "\n",
       "    .dataframe tbody tr th {\n",
       "        vertical-align: top;\n",
       "    }\n",
       "\n",
       "    .dataframe thead th {\n",
       "        text-align: right;\n",
       "    }\n",
       "</style>\n",
       "<table border=\"1\" class=\"dataframe\">\n",
       "  <thead>\n",
       "    <tr style=\"text-align: right;\">\n",
       "      <th></th>\n",
       "      <th>Segment</th>\n",
       "      <th>Country</th>\n",
       "      <th>Product</th>\n",
       "      <th>Discount_Band</th>\n",
       "      <th>Units_Sold</th>\n",
       "      <th>Manufacturing_Price</th>\n",
       "      <th>Sale_Price</th>\n",
       "      <th>Gross_Sales</th>\n",
       "      <th>Discounts</th>\n",
       "      <th>Sales</th>\n",
       "      <th>COGS</th>\n",
       "      <th>Profit</th>\n",
       "      <th>Date</th>\n",
       "      <th>Month_Number</th>\n",
       "      <th>Month_Name</th>\n",
       "      <th>Year</th>\n",
       "      <th>Profit_Margin</th>\n",
       "    </tr>\n",
       "  </thead>\n",
       "  <tbody>\n",
       "    <tr>\n",
       "      <th>0</th>\n",
       "      <td>Government</td>\n",
       "      <td>Canada</td>\n",
       "      <td>Carretera</td>\n",
       "      <td>None</td>\n",
       "      <td>1618.5</td>\n",
       "      <td>3.0</td>\n",
       "      <td>20.0</td>\n",
       "      <td>32370.0</td>\n",
       "      <td>0.00</td>\n",
       "      <td>32370.00</td>\n",
       "      <td>16185.0</td>\n",
       "      <td>16185.00</td>\n",
       "      <td>2014-01-01</td>\n",
       "      <td>1</td>\n",
       "      <td>January</td>\n",
       "      <td>2014</td>\n",
       "      <td>0.500000</td>\n",
       "    </tr>\n",
       "    <tr>\n",
       "      <th>1</th>\n",
       "      <td>Government</td>\n",
       "      <td>Germany</td>\n",
       "      <td>Carretera</td>\n",
       "      <td>None</td>\n",
       "      <td>1321.0</td>\n",
       "      <td>3.0</td>\n",
       "      <td>20.0</td>\n",
       "      <td>26420.0</td>\n",
       "      <td>0.00</td>\n",
       "      <td>26420.00</td>\n",
       "      <td>13210.0</td>\n",
       "      <td>13210.00</td>\n",
       "      <td>2014-01-01</td>\n",
       "      <td>1</td>\n",
       "      <td>January</td>\n",
       "      <td>2014</td>\n",
       "      <td>0.500000</td>\n",
       "    </tr>\n",
       "    <tr>\n",
       "      <th>2</th>\n",
       "      <td>Midmarket</td>\n",
       "      <td>France</td>\n",
       "      <td>Carretera</td>\n",
       "      <td>None</td>\n",
       "      <td>2178.0</td>\n",
       "      <td>3.0</td>\n",
       "      <td>15.0</td>\n",
       "      <td>32670.0</td>\n",
       "      <td>0.00</td>\n",
       "      <td>32670.00</td>\n",
       "      <td>21780.0</td>\n",
       "      <td>10890.00</td>\n",
       "      <td>2014-01-06</td>\n",
       "      <td>6</td>\n",
       "      <td>June</td>\n",
       "      <td>2014</td>\n",
       "      <td>0.333333</td>\n",
       "    </tr>\n",
       "    <tr>\n",
       "      <th>3</th>\n",
       "      <td>Midmarket</td>\n",
       "      <td>Germany</td>\n",
       "      <td>Carretera</td>\n",
       "      <td>None</td>\n",
       "      <td>888.0</td>\n",
       "      <td>3.0</td>\n",
       "      <td>15.0</td>\n",
       "      <td>13320.0</td>\n",
       "      <td>0.00</td>\n",
       "      <td>13320.00</td>\n",
       "      <td>8880.0</td>\n",
       "      <td>4440.00</td>\n",
       "      <td>2014-01-06</td>\n",
       "      <td>6</td>\n",
       "      <td>June</td>\n",
       "      <td>2014</td>\n",
       "      <td>0.333333</td>\n",
       "    </tr>\n",
       "    <tr>\n",
       "      <th>4</th>\n",
       "      <td>Midmarket</td>\n",
       "      <td>Mexico</td>\n",
       "      <td>Carretera</td>\n",
       "      <td>None</td>\n",
       "      <td>2470.0</td>\n",
       "      <td>3.0</td>\n",
       "      <td>15.0</td>\n",
       "      <td>37050.0</td>\n",
       "      <td>0.00</td>\n",
       "      <td>37050.00</td>\n",
       "      <td>24700.0</td>\n",
       "      <td>12350.00</td>\n",
       "      <td>2014-01-06</td>\n",
       "      <td>6</td>\n",
       "      <td>June</td>\n",
       "      <td>2014</td>\n",
       "      <td>0.333333</td>\n",
       "    </tr>\n",
       "    <tr>\n",
       "      <th>...</th>\n",
       "      <td>...</td>\n",
       "      <td>...</td>\n",
       "      <td>...</td>\n",
       "      <td>...</td>\n",
       "      <td>...</td>\n",
       "      <td>...</td>\n",
       "      <td>...</td>\n",
       "      <td>...</td>\n",
       "      <td>...</td>\n",
       "      <td>...</td>\n",
       "      <td>...</td>\n",
       "      <td>...</td>\n",
       "      <td>...</td>\n",
       "      <td>...</td>\n",
       "      <td>...</td>\n",
       "      <td>...</td>\n",
       "      <td>...</td>\n",
       "    </tr>\n",
       "    <tr>\n",
       "      <th>695</th>\n",
       "      <td>Small Business</td>\n",
       "      <td>France</td>\n",
       "      <td>Amarilla</td>\n",
       "      <td>High</td>\n",
       "      <td>2475.0</td>\n",
       "      <td>260.0</td>\n",
       "      <td>300.0</td>\n",
       "      <td>742500.0</td>\n",
       "      <td>111375.00</td>\n",
       "      <td>631125.00</td>\n",
       "      <td>618750.0</td>\n",
       "      <td>12375.00</td>\n",
       "      <td>2014-01-03</td>\n",
       "      <td>3</td>\n",
       "      <td>March</td>\n",
       "      <td>2014</td>\n",
       "      <td>0.166667</td>\n",
       "    </tr>\n",
       "    <tr>\n",
       "      <th>696</th>\n",
       "      <td>Small Business</td>\n",
       "      <td>Mexico</td>\n",
       "      <td>Amarilla</td>\n",
       "      <td>High</td>\n",
       "      <td>546.0</td>\n",
       "      <td>260.0</td>\n",
       "      <td>300.0</td>\n",
       "      <td>163800.0</td>\n",
       "      <td>24570.00</td>\n",
       "      <td>139230.00</td>\n",
       "      <td>136500.0</td>\n",
       "      <td>2730.00</td>\n",
       "      <td>2014-01-10</td>\n",
       "      <td>10</td>\n",
       "      <td>October</td>\n",
       "      <td>2014</td>\n",
       "      <td>0.166667</td>\n",
       "    </tr>\n",
       "    <tr>\n",
       "      <th>697</th>\n",
       "      <td>Government</td>\n",
       "      <td>Mexico</td>\n",
       "      <td>Montana</td>\n",
       "      <td>High</td>\n",
       "      <td>1368.0</td>\n",
       "      <td>5.0</td>\n",
       "      <td>7.0</td>\n",
       "      <td>9576.0</td>\n",
       "      <td>1436.40</td>\n",
       "      <td>8139.60</td>\n",
       "      <td>6840.0</td>\n",
       "      <td>1299.60</td>\n",
       "      <td>2014-01-02</td>\n",
       "      <td>2</td>\n",
       "      <td>February</td>\n",
       "      <td>2014</td>\n",
       "      <td>0.285714</td>\n",
       "    </tr>\n",
       "    <tr>\n",
       "      <th>698</th>\n",
       "      <td>Government</td>\n",
       "      <td>Canada</td>\n",
       "      <td>Paseo</td>\n",
       "      <td>High</td>\n",
       "      <td>723.0</td>\n",
       "      <td>10.0</td>\n",
       "      <td>7.0</td>\n",
       "      <td>5061.0</td>\n",
       "      <td>759.15</td>\n",
       "      <td>4301.85</td>\n",
       "      <td>3615.0</td>\n",
       "      <td>686.85</td>\n",
       "      <td>2014-01-04</td>\n",
       "      <td>4</td>\n",
       "      <td>April</td>\n",
       "      <td>2014</td>\n",
       "      <td>0.285714</td>\n",
       "    </tr>\n",
       "    <tr>\n",
       "      <th>699</th>\n",
       "      <td>Channel Partners</td>\n",
       "      <td>United States of America</td>\n",
       "      <td>VTT</td>\n",
       "      <td>High</td>\n",
       "      <td>1806.0</td>\n",
       "      <td>250.0</td>\n",
       "      <td>12.0</td>\n",
       "      <td>21672.0</td>\n",
       "      <td>3250.80</td>\n",
       "      <td>18421.20</td>\n",
       "      <td>5418.0</td>\n",
       "      <td>13003.20</td>\n",
       "      <td>2014-01-05</td>\n",
       "      <td>5</td>\n",
       "      <td>May</td>\n",
       "      <td>2014</td>\n",
       "      <td>0.750000</td>\n",
       "    </tr>\n",
       "  </tbody>\n",
       "</table>\n",
       "<p>700 rows × 17 columns</p>\n",
       "</div>"
      ],
      "text/plain": [
       "              Segment                   Country      Product Discount_Band  \\\n",
       "0          Government                    Canada   Carretera           None   \n",
       "1          Government                   Germany   Carretera           None   \n",
       "2           Midmarket                    France   Carretera           None   \n",
       "3           Midmarket                   Germany   Carretera           None   \n",
       "4           Midmarket                    Mexico   Carretera           None   \n",
       "..                ...                       ...          ...           ...   \n",
       "695    Small Business                    France    Amarilla           High   \n",
       "696    Small Business                    Mexico    Amarilla           High   \n",
       "697        Government                    Mexico     Montana           High   \n",
       "698        Government                    Canada       Paseo           High   \n",
       "699  Channel Partners  United States of America         VTT           High   \n",
       "\n",
       "     Units_Sold  Manufacturing_Price  Sale_Price  Gross_Sales  Discounts  \\\n",
       "0        1618.5                  3.0        20.0      32370.0       0.00   \n",
       "1        1321.0                  3.0        20.0      26420.0       0.00   \n",
       "2        2178.0                  3.0        15.0      32670.0       0.00   \n",
       "3         888.0                  3.0        15.0      13320.0       0.00   \n",
       "4        2470.0                  3.0        15.0      37050.0       0.00   \n",
       "..          ...                  ...         ...          ...        ...   \n",
       "695      2475.0                260.0       300.0     742500.0  111375.00   \n",
       "696       546.0                260.0       300.0     163800.0   24570.00   \n",
       "697      1368.0                  5.0         7.0       9576.0    1436.40   \n",
       "698       723.0                 10.0         7.0       5061.0     759.15   \n",
       "699      1806.0                250.0        12.0      21672.0    3250.80   \n",
       "\n",
       "         Sales      COGS    Profit       Date  Month_Number Month_Name  Year  \\\n",
       "0     32370.00   16185.0  16185.00 2014-01-01             1    January  2014   \n",
       "1     26420.00   13210.0  13210.00 2014-01-01             1    January  2014   \n",
       "2     32670.00   21780.0  10890.00 2014-01-06             6       June  2014   \n",
       "3     13320.00    8880.0   4440.00 2014-01-06             6       June  2014   \n",
       "4     37050.00   24700.0  12350.00 2014-01-06             6       June  2014   \n",
       "..         ...       ...       ...        ...           ...        ...   ...   \n",
       "695  631125.00  618750.0  12375.00 2014-01-03             3      March  2014   \n",
       "696  139230.00  136500.0   2730.00 2014-01-10            10    October  2014   \n",
       "697    8139.60    6840.0   1299.60 2014-01-02             2   February  2014   \n",
       "698    4301.85    3615.0    686.85 2014-01-04             4      April  2014   \n",
       "699   18421.20    5418.0  13003.20 2014-01-05             5        May  2014   \n",
       "\n",
       "     Profit_Margin  \n",
       "0         0.500000  \n",
       "1         0.500000  \n",
       "2         0.333333  \n",
       "3         0.333333  \n",
       "4         0.333333  \n",
       "..             ...  \n",
       "695       0.166667  \n",
       "696       0.166667  \n",
       "697       0.285714  \n",
       "698       0.285714  \n",
       "699       0.750000  \n",
       "\n",
       "[700 rows x 17 columns]"
      ]
     },
     "execution_count": 43,
     "metadata": {},
     "output_type": "execute_result"
    }
   ],
   "source": [
    "# Product Price vs. Units Sold (Simple Linear Regression)\n",
    "data"
   ]
  },
  {
   "cell_type": "code",
   "execution_count": 44,
   "id": "a35e9ef7",
   "metadata": {},
   "outputs": [],
   "source": [
    "#DOUBT DECIDING WHICH ONE SHOULD BE X AND WHICH ONE SHOULD BE Y"
   ]
  },
  {
   "cell_type": "code",
   "execution_count": 45,
   "id": "69da4749",
   "metadata": {},
   "outputs": [],
   "source": [
    "model2 = LinearRegression()\n",
    "X = np.array(data[['Sale_Price']])\n",
    "y = np.array(data['Units_Sold'])\n",
    "model2.fit(X,y)\n",
    "coefficients = model2.coef_\n",
    "intercept = model2.intercept_"
   ]
  },
  {
   "cell_type": "code",
   "execution_count": 46,
   "id": "6a904737",
   "metadata": {},
   "outputs": [
    {
     "data": {
      "image/png": "[encoded data removed]",
      "text/plain": [
       "<Figure size 432x288 with 1 Axes>"
      ]
     },
     "metadata": {
      "needs_background": "light"
     },
     "output_type": "display_data"
    }
   ],
   "source": [
    "plt.scatter(X, y, color='blue', label='Actual #Units')\n",
    "plt.plot(X, model2.predict(X), color='red', label='Predicted #Units')\n",
    "plt.xlabel('Sales Price')\n",
    "plt.ylabel('Units Sold')\n",
    "plt.title('Linear Regression: Sales Price vs. Units Sold')\n",
    "plt.legend()\n",
    "plt.show()"
   ]
  },
  {
   "cell_type": "markdown",
   "id": "fd3c8b2a",
   "metadata": {},
   "source": [
    "Clearly , no linear relation found"
   ]
  },
  {
   "cell_type": "markdown",
   "id": "91f02163",
   "metadata": {},
   "source": [
    "# Month vs. Gross Sales (Polynomial Regression)\n"
   ]
  },
  {
   "cell_type": "code",
   "execution_count": 72,
   "id": "deae3e8a",
   "metadata": {},
   "outputs": [
    {
     "data": {
      "text/html": [
       "<div>\n",
       "<style scoped>\n",
       "    .dataframe tbody tr th:only-of-type {\n",
       "        vertical-align: middle;\n",
       "    }\n",
       "\n",
       "    .dataframe tbody tr th {\n",
       "        vertical-align: top;\n",
       "    }\n",
       "\n",
       "    .dataframe thead th {\n",
       "        text-align: right;\n",
       "    }\n",
       "</style>\n",
       "<table border=\"1\" class=\"dataframe\">\n",
       "  <thead>\n",
       "    <tr style=\"text-align: right;\">\n",
       "      <th></th>\n",
       "      <th>Segment</th>\n",
       "      <th>Country</th>\n",
       "      <th>Product</th>\n",
       "      <th>Discount_Band</th>\n",
       "      <th>Units_Sold</th>\n",
       "      <th>Manufacturing_Price</th>\n",
       "      <th>Sale_Price</th>\n",
       "      <th>Gross_Sales</th>\n",
       "      <th>Discounts</th>\n",
       "      <th>Sales</th>\n",
       "      <th>COGS</th>\n",
       "      <th>Profit</th>\n",
       "      <th>Date</th>\n",
       "      <th>Month_Number</th>\n",
       "      <th>Month_Name</th>\n",
       "      <th>Year</th>\n",
       "      <th>Profit_Margin</th>\n",
       "    </tr>\n",
       "  </thead>\n",
       "  <tbody>\n",
       "    <tr>\n",
       "      <th>0</th>\n",
       "      <td>Government</td>\n",
       "      <td>Canada</td>\n",
       "      <td>Carretera</td>\n",
       "      <td>None</td>\n",
       "      <td>1618.5</td>\n",
       "      <td>3.0</td>\n",
       "      <td>20.0</td>\n",
       "      <td>32370.0</td>\n",
       "      <td>0.00</td>\n",
       "      <td>32370.00</td>\n",
       "      <td>16185.0</td>\n",
       "      <td>16185.00</td>\n",
       "      <td>2014-01-01</td>\n",
       "      <td>1</td>\n",
       "      <td>January</td>\n",
       "      <td>2014</td>\n",
       "      <td>0.500000</td>\n",
       "    </tr>\n",
       "    <tr>\n",
       "      <th>1</th>\n",
       "      <td>Government</td>\n",
       "      <td>Germany</td>\n",
       "      <td>Carretera</td>\n",
       "      <td>None</td>\n",
       "      <td>1321.0</td>\n",
       "      <td>3.0</td>\n",
       "      <td>20.0</td>\n",
       "      <td>26420.0</td>\n",
       "      <td>0.00</td>\n",
       "      <td>26420.00</td>\n",
       "      <td>13210.0</td>\n",
       "      <td>13210.00</td>\n",
       "      <td>2014-01-01</td>\n",
       "      <td>1</td>\n",
       "      <td>January</td>\n",
       "      <td>2014</td>\n",
       "      <td>0.500000</td>\n",
       "    </tr>\n",
       "    <tr>\n",
       "      <th>2</th>\n",
       "      <td>Midmarket</td>\n",
       "      <td>France</td>\n",
       "      <td>Carretera</td>\n",
       "      <td>None</td>\n",
       "      <td>2178.0</td>\n",
       "      <td>3.0</td>\n",
       "      <td>15.0</td>\n",
       "      <td>32670.0</td>\n",
       "      <td>0.00</td>\n",
       "      <td>32670.00</td>\n",
       "      <td>21780.0</td>\n",
       "      <td>10890.00</td>\n",
       "      <td>2014-01-06</td>\n",
       "      <td>6</td>\n",
       "      <td>June</td>\n",
       "      <td>2014</td>\n",
       "      <td>0.333333</td>\n",
       "    </tr>\n",
       "    <tr>\n",
       "      <th>3</th>\n",
       "      <td>Midmarket</td>\n",
       "      <td>Germany</td>\n",
       "      <td>Carretera</td>\n",
       "      <td>None</td>\n",
       "      <td>888.0</td>\n",
       "      <td>3.0</td>\n",
       "      <td>15.0</td>\n",
       "      <td>13320.0</td>\n",
       "      <td>0.00</td>\n",
       "      <td>13320.00</td>\n",
       "      <td>8880.0</td>\n",
       "      <td>4440.00</td>\n",
       "      <td>2014-01-06</td>\n",
       "      <td>6</td>\n",
       "      <td>June</td>\n",
       "      <td>2014</td>\n",
       "      <td>0.333333</td>\n",
       "    </tr>\n",
       "    <tr>\n",
       "      <th>4</th>\n",
       "      <td>Midmarket</td>\n",
       "      <td>Mexico</td>\n",
       "      <td>Carretera</td>\n",
       "      <td>None</td>\n",
       "      <td>2470.0</td>\n",
       "      <td>3.0</td>\n",
       "      <td>15.0</td>\n",
       "      <td>37050.0</td>\n",
       "      <td>0.00</td>\n",
       "      <td>37050.00</td>\n",
       "      <td>24700.0</td>\n",
       "      <td>12350.00</td>\n",
       "      <td>2014-01-06</td>\n",
       "      <td>6</td>\n",
       "      <td>June</td>\n",
       "      <td>2014</td>\n",
       "      <td>0.333333</td>\n",
       "    </tr>\n",
       "    <tr>\n",
       "      <th>...</th>\n",
       "      <td>...</td>\n",
       "      <td>...</td>\n",
       "      <td>...</td>\n",
       "      <td>...</td>\n",
       "      <td>...</td>\n",
       "      <td>...</td>\n",
       "      <td>...</td>\n",
       "      <td>...</td>\n",
       "      <td>...</td>\n",
       "      <td>...</td>\n",
       "      <td>...</td>\n",
       "      <td>...</td>\n",
       "      <td>...</td>\n",
       "      <td>...</td>\n",
       "      <td>...</td>\n",
       "      <td>...</td>\n",
       "      <td>...</td>\n",
       "    </tr>\n",
       "    <tr>\n",
       "      <th>695</th>\n",
       "      <td>Small Business</td>\n",
       "      <td>France</td>\n",
       "      <td>Amarilla</td>\n",
       "      <td>High</td>\n",
       "      <td>2475.0</td>\n",
       "      <td>260.0</td>\n",
       "      <td>300.0</td>\n",
       "      <td>742500.0</td>\n",
       "      <td>111375.00</td>\n",
       "      <td>631125.00</td>\n",
       "      <td>618750.0</td>\n",
       "      <td>12375.00</td>\n",
       "      <td>2014-01-03</td>\n",
       "      <td>3</td>\n",
       "      <td>March</td>\n",
       "      <td>2014</td>\n",
       "      <td>0.166667</td>\n",
       "    </tr>\n",
       "    <tr>\n",
       "      <th>696</th>\n",
       "      <td>Small Business</td>\n",
       "      <td>Mexico</td>\n",
       "      <td>Amarilla</td>\n",
       "      <td>High</td>\n",
       "      <td>546.0</td>\n",
       "      <td>260.0</td>\n",
       "      <td>300.0</td>\n",
       "      <td>163800.0</td>\n",
       "      <td>24570.00</td>\n",
       "      <td>139230.00</td>\n",
       "      <td>136500.0</td>\n",
       "      <td>2730.00</td>\n",
       "      <td>2014-01-10</td>\n",
       "      <td>10</td>\n",
       "      <td>October</td>\n",
       "      <td>2014</td>\n",
       "      <td>0.166667</td>\n",
       "    </tr>\n",
       "    <tr>\n",
       "      <th>697</th>\n",
       "      <td>Government</td>\n",
       "      <td>Mexico</td>\n",
       "      <td>Montana</td>\n",
       "      <td>High</td>\n",
       "      <td>1368.0</td>\n",
       "      <td>5.0</td>\n",
       "      <td>7.0</td>\n",
       "      <td>9576.0</td>\n",
       "      <td>1436.40</td>\n",
       "      <td>8139.60</td>\n",
       "      <td>6840.0</td>\n",
       "      <td>1299.60</td>\n",
       "      <td>2014-01-02</td>\n",
       "      <td>2</td>\n",
       "      <td>February</td>\n",
       "      <td>2014</td>\n",
       "      <td>0.285714</td>\n",
       "    </tr>\n",
       "    <tr>\n",
       "      <th>698</th>\n",
       "      <td>Government</td>\n",
       "      <td>Canada</td>\n",
       "      <td>Paseo</td>\n",
       "      <td>High</td>\n",
       "      <td>723.0</td>\n",
       "      <td>10.0</td>\n",
       "      <td>7.0</td>\n",
       "      <td>5061.0</td>\n",
       "      <td>759.15</td>\n",
       "      <td>4301.85</td>\n",
       "      <td>3615.0</td>\n",
       "      <td>686.85</td>\n",
       "      <td>2014-01-04</td>\n",
       "      <td>4</td>\n",
       "      <td>April</td>\n",
       "      <td>2014</td>\n",
       "      <td>0.285714</td>\n",
       "    </tr>\n",
       "    <tr>\n",
       "      <th>699</th>\n",
       "      <td>Channel Partners</td>\n",
       "      <td>United States of America</td>\n",
       "      <td>VTT</td>\n",
       "      <td>High</td>\n",
       "      <td>1806.0</td>\n",
       "      <td>250.0</td>\n",
       "      <td>12.0</td>\n",
       "      <td>21672.0</td>\n",
       "      <td>3250.80</td>\n",
       "      <td>18421.20</td>\n",
       "      <td>5418.0</td>\n",
       "      <td>13003.20</td>\n",
       "      <td>2014-01-05</td>\n",
       "      <td>5</td>\n",
       "      <td>May</td>\n",
       "      <td>2014</td>\n",
       "      <td>0.750000</td>\n",
       "    </tr>\n",
       "  </tbody>\n",
       "</table>\n",
       "<p>700 rows × 17 columns</p>\n",
       "</div>"
      ],
      "text/plain": [
       "              Segment                   Country      Product Discount_Band  \\\n",
       "0          Government                    Canada   Carretera           None   \n",
       "1          Government                   Germany   Carretera           None   \n",
       "2           Midmarket                    France   Carretera           None   \n",
       "3           Midmarket                   Germany   Carretera           None   \n",
       "4           Midmarket                    Mexico   Carretera           None   \n",
       "..                ...                       ...          ...           ...   \n",
       "695    Small Business                    France    Amarilla           High   \n",
       "696    Small Business                    Mexico    Amarilla           High   \n",
       "697        Government                    Mexico     Montana           High   \n",
       "698        Government                    Canada       Paseo           High   \n",
       "699  Channel Partners  United States of America         VTT           High   \n",
       "\n",
       "     Units_Sold  Manufacturing_Price  Sale_Price  Gross_Sales  Discounts  \\\n",
       "0        1618.5                  3.0        20.0      32370.0       0.00   \n",
       "1        1321.0                  3.0        20.0      26420.0       0.00   \n",
       "2        2178.0                  3.0        15.0      32670.0       0.00   \n",
       "3         888.0                  3.0        15.0      13320.0       0.00   \n",
       "4        2470.0                  3.0        15.0      37050.0       0.00   \n",
       "..          ...                  ...         ...          ...        ...   \n",
       "695      2475.0                260.0       300.0     742500.0  111375.00   \n",
       "696       546.0                260.0       300.0     163800.0   24570.00   \n",
       "697      1368.0                  5.0         7.0       9576.0    1436.40   \n",
       "698       723.0                 10.0         7.0       5061.0     759.15   \n",
       "699      1806.0                250.0        12.0      21672.0    3250.80   \n",
       "\n",
       "         Sales      COGS    Profit       Date  Month_Number Month_Name  Year  \\\n",
       "0     32370.00   16185.0  16185.00 2014-01-01             1    January  2014   \n",
       "1     26420.00   13210.0  13210.00 2014-01-01             1    January  2014   \n",
       "2     32670.00   21780.0  10890.00 2014-01-06             6       June  2014   \n",
       "3     13320.00    8880.0   4440.00 2014-01-06             6       June  2014   \n",
       "4     37050.00   24700.0  12350.00 2014-01-06             6       June  2014   \n",
       "..         ...       ...       ...        ...           ...        ...   ...   \n",
       "695  631125.00  618750.0  12375.00 2014-01-03             3      March  2014   \n",
       "696  139230.00  136500.0   2730.00 2014-01-10            10    October  2014   \n",
       "697    8139.60    6840.0   1299.60 2014-01-02             2   February  2014   \n",
       "698    4301.85    3615.0    686.85 2014-01-04             4      April  2014   \n",
       "699   18421.20    5418.0  13003.20 2014-01-05             5        May  2014   \n",
       "\n",
       "     Profit_Margin  \n",
       "0         0.500000  \n",
       "1         0.500000  \n",
       "2         0.333333  \n",
       "3         0.333333  \n",
       "4         0.333333  \n",
       "..             ...  \n",
       "695       0.166667  \n",
       "696       0.166667  \n",
       "697       0.285714  \n",
       "698       0.285714  \n",
       "699       0.750000  \n",
       "\n",
       "[700 rows x 17 columns]"
      ]
     },
     "execution_count": 72,
     "metadata": {},
     "output_type": "execute_result"
    }
   ],
   "source": [
    "data"
   ]
  },
  {
   "cell_type": "code",
   "execution_count": 75,
   "id": "861df25f",
   "metadata": {},
   "outputs": [],
   "source": [
    "X = np.array(data['Month_Number']).reshape(-1,1)\n",
    "y = np.array(data['Gross_Sales'])\n",
    "X_train,X_test,y_train,y_test = train_test_split(X,y,test_size=0.2,random_state=42)"
   ]
  },
  {
   "cell_type": "code",
   "execution_count": 76,
   "id": "078b45dc",
   "metadata": {},
   "outputs": [],
   "source": [
    "#applying polynomial transformation \n",
    "from sklearn.preprocessing import PolynomialFeatures\n",
    "\n",
    "poly = PolynomialFeatures(degree=2,include_bias=True)\n",
    "X_train_poly = poly.fit_transform(X_train.reshape(-1,1)) #fir transform only takes reference for traindata\n",
    "X_test_poly = poly.transform(X_test)"
   ]
  },
  {
   "cell_type": "code",
   "execution_count": 77,
   "id": "f4ac562c",
   "metadata": {},
   "outputs": [
    {
     "name": "stdout",
     "output_type": "stream",
     "text": [
      "-0.015014092295736692\n"
     ]
    }
   ],
   "source": [
    "from sklearn.metrics import r2_score\n",
    "regression = LinearRegression()\n",
    "regression.fit(X_train_poly,y_train)\n",
    "y_pred = regression.predict(X_test_poly)\n",
    "score = r2_score(y_test,y_pred)\n",
    "print(score)"
   ]
  },
  {
   "cell_type": "code",
   "execution_count": 78,
   "id": "22662c8d",
   "metadata": {},
   "outputs": [
    {
     "data": {
      "text/plain": [
       "<matplotlib.collections.PathCollection at 0x155e25bbc70>"
      ]
     },
     "execution_count": 78,
     "metadata": {},
     "output_type": "execute_result"
    },
    {
     "data": {
      "image/png": "[encoded data removed]",
      "text/plain": [
       "<Figure size 432x288 with 1 Axes>"
      ]
     },
     "metadata": {
      "needs_background": "light"
     },
     "output_type": "display_data"
    }
   ],
   "source": [
    "plt.scatter(X_train,regression.predict(X_train_poly))"
   ]
  },
  {
   "cell_type": "code",
   "execution_count": 79,
   "id": "8292d1c2",
   "metadata": {},
   "outputs": [
    {
     "data": {
      "text/plain": [
       "<matplotlib.collections.PathCollection at 0x155e242ba90>"
      ]
     },
     "execution_count": 79,
     "metadata": {},
     "output_type": "execute_result"
    },
    {
     "data": {
      "image/png": "[encoded data removed]",
      "text/plain": [
       "<Figure size 432x288 with 1 Axes>"
      ]
     },
     "metadata": {
      "needs_background": "light"
     },
     "output_type": "display_data"
    }
   ],
   "source": [
    "plt.scatter(X_train,regression.predict(X_train_poly),color = 'r')\n",
    "plt.scatter(X_train,y_train,color = 'g')"
   ]
  },
  {
   "cell_type": "markdown",
   "id": "af59cb0f",
   "metadata": {},
   "source": [
    "# LOGISTIC REGRESSION"
   ]
  },
  {
   "cell_type": "code",
   "execution_count": 50,
   "id": "04cb849d",
   "metadata": {},
   "outputs": [],
   "source": [
    "#importing the libraries\n",
    "from sklearn.linear_model import LogisticRegression\n",
    "from sklearn.preprocessing import OneHotEncoder\n",
    "from sklearn.compose import ColumnTransformer\n",
    "from sklearn.pipeline import Pipeline"
   ]
  },
  {
   "cell_type": "code",
   "execution_count": null,
   "id": "3fa83723",
   "metadata": {},
   "outputs": [],
   "source": [
    "# Dummy encode categorical variables\n",
    "df_encoded = pd.get_dummies(data=data, columns=['Segment', 'Country'], drop_first=True)\n",
    "\n",
    "# Define X and y\n",
    "X = df_encoded.drop('Profit', axis=1)\n",
    "y = df_encoded['Profit']\n",
    "\n",
    "# Split the data into training and testing sets\n",
    "X_train, X_test, y_train, y_test = train_test_split(X, y, test_size=0.2, random_state=42)\n",
    "\n",
    "# Create a logistic regression pipeline\n",
    "model = Pipeline([\n",
    "    ('classifier', LogisticRegression())\n",
    "])\n",
    "\n",
    "# Fit the model\n",
    "model.fit(X_train, y_train)\n",
    "\n",
    "# Predictions on the test set\n",
    "y_pred = model.predict(X_test)\n",
    "\n",
    "# Evaluate accuracy\n",
    "accuracy = accuracy_score(y_test, y_pred)\n",
    "print(f'Accuracy: {accuracy}')\n",
    "\n",
    "# Now you can use the model to predict new data\n",
    "# For example, if you have a new combination of Segment and Country:\n",
    "new_data = pd.DataFrame({'Segment_Enterprise': [0], 'Segment_Midmarket': [1], 'Country_USA': [1], 'Country_UK': [0]})\n",
    "predicted_profit = model.predict(new_data)\n",
    "print(f'Predicted Profit: {predicted_profit}')"
   ]
  }
 ],
 "metadata": {
  "kernelspec": {
   "display_name": "Python 3 (ipykernel)",
   "language": "python",
   "name": "python3"
  },
  "language_info": {
   "codemirror_mode": {
    "name": "ipython",
    "version": 3
   },
   "file_extension": ".py",
   "mimetype": "text/x-python",
   "name": "python",
   "nbconvert_exporter": "python",
   "pygments_lexer": "ipython3",
   "version": "3.9.12"
  }
 },
 "nbformat": 4,
 "nbformat_minor": 5
}
